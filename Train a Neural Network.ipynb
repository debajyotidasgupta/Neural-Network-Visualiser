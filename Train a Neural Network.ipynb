{
 "cells": [
  {
   "cell_type": "markdown",
   "metadata": {},
   "source": [
    "# Import Libraries"
   ]
  },
  {
   "cell_type": "code",
   "execution_count": 1,
   "metadata": {},
   "outputs": [],
   "source": [
    "%matplotlib inline\n",
    "\n",
    "import tensorflow as tf\n",
    "import numpy as np\n",
    "import matplotlib.pyplot as plt"
   ]
  },
  {
   "cell_type": "markdown",
   "metadata": {},
   "source": [
    "# Download Data"
   ]
  },
  {
   "cell_type": "code",
   "execution_count": 2,
   "metadata": {},
   "outputs": [],
   "source": [
    "(x_train, y_train), (x_test, y_test) = tf.keras.datasets.mnist.load_data()"
   ]
  },
  {
   "cell_type": "markdown",
   "metadata": {},
   "source": [
    "# Plot Examples"
   ]
  },
  {
   "cell_type": "code",
   "execution_count": 3,
   "metadata": {},
   "outputs": [
    {
     "data": {
      "image/png": "[encoded data removed]",
      "text/plain": [
       "<Figure size 720x720 with 16 Axes>"
      ]
     },
     "metadata": {},
     "output_type": "display_data"
    }
   ],
   "source": [
    "plt.figure(figsize=(10, 10))\n",
    "\n",
    "for i in range(16):\n",
    "    plt.subplot(4, 4, i + 1)\n",
    "    plt.imshow(x_train[i], cmap='binary')\n",
    "    plt.xlabel(str(y_train[i]))\n",
    "    plt.xticks([])\n",
    "    plt.yticks([])\n",
    "plt.show()"
   ]
  },
  {
   "cell_type": "markdown",
   "metadata": {},
   "source": [
    "# Normalize Data"
   ]
  },
  {
   "cell_type": "code",
   "execution_count": 4,
   "metadata": {},
   "outputs": [],
   "source": [
    "x_train = np.reshape(x_train, (60000, 784))\n",
    "x_train = x_train / 255.\n",
    "\n",
    "x_test = np.reshape(x_test, (10000, 784))\n",
    "x_test = x_test / 255."
   ]
  },
  {
   "cell_type": "markdown",
   "metadata": {},
   "source": [
    "# Create a Neural Network Model"
   ]
  },
  {
   "cell_type": "code",
   "execution_count": 15,
   "metadata": {},
   "outputs": [],
   "source": [
    "model = tf.keras.models.Sequential([\n",
    "    tf.keras.layers.Dense(32, activation='sigmoid', input_shape=(784,)),\n",
    "    tf.keras.layers.Dense(16, activation='relu'),\n",
    "    tf.keras.layers.Dense(32, activation='sigmoid'),\n",
    "    tf.keras.layers.Dense(16, activation='tanh'),\n",
    "    tf.keras.layers.Dense(10, activation='softmax')\n",
    "])\n",
    "\n",
    "model.compile(loss='sparse_categorical_crossentropy', optimizer='adam', metrics=['accuracy'])"
   ]
  },
  {
   "cell_type": "markdown",
   "metadata": {},
   "source": [
    "# Train the Model"
   ]
  },
  {
   "cell_type": "code",
   "execution_count": 16,
   "metadata": {},
   "outputs": [
    {
     "name": "stdout",
     "output_type": "stream",
     "text": [
      "Epoch 1/50\n",
      "59/59 - 0s - loss: 2.2141 - accuracy: 0.2686 - val_loss: 1.9488 - val_accuracy: 0.4438\n",
      "Epoch 2/50\n",
      "59/59 - 0s - loss: 1.6371 - accuracy: 0.5169 - val_loss: 1.3110 - val_accuracy: 0.6072\n",
      "Epoch 3/50\n",
      "59/59 - 0s - loss: 1.1273 - accuracy: 0.6680 - val_loss: 0.9574 - val_accuracy: 0.7654\n",
      "Epoch 4/50\n",
      "59/59 - 0s - loss: 0.8632 - accuracy: 0.7925 - val_loss: 0.7537 - val_accuracy: 0.8296\n",
      "Epoch 5/50\n",
      "59/59 - 0s - loss: 0.6827 - accuracy: 0.8439 - val_loss: 0.5994 - val_accuracy: 0.8683\n",
      "Epoch 6/50\n",
      "59/59 - 0s - loss: 0.5457 - accuracy: 0.8789 - val_loss: 0.4877 - val_accuracy: 0.8927\n",
      "Epoch 7/50\n",
      "59/59 - 0s - loss: 0.4464 - accuracy: 0.9006 - val_loss: 0.4108 - val_accuracy: 0.9074\n",
      "Epoch 8/50\n",
      "59/59 - 0s - loss: 0.3775 - accuracy: 0.9132 - val_loss: 0.3559 - val_accuracy: 0.9176\n",
      "Epoch 9/50\n",
      "59/59 - 0s - loss: 0.3301 - accuracy: 0.9215 - val_loss: 0.3207 - val_accuracy: 0.9227\n",
      "Epoch 10/50\n",
      "59/59 - 0s - loss: 0.2955 - accuracy: 0.9282 - val_loss: 0.2942 - val_accuracy: 0.9269\n",
      "Epoch 11/50\n",
      "59/59 - 0s - loss: 0.2691 - accuracy: 0.9330 - val_loss: 0.2712 - val_accuracy: 0.9310\n",
      "Epoch 12/50\n",
      "59/59 - 0s - loss: 0.2479 - accuracy: 0.9377 - val_loss: 0.2533 - val_accuracy: 0.9348\n",
      "Epoch 13/50\n",
      "59/59 - 0s - loss: 0.2304 - accuracy: 0.9416 - val_loss: 0.2397 - val_accuracy: 0.9379\n",
      "Epoch 14/50\n",
      "59/59 - 0s - loss: 0.2156 - accuracy: 0.9446 - val_loss: 0.2284 - val_accuracy: 0.9400\n",
      "Epoch 15/50\n",
      "59/59 - 0s - loss: 0.2035 - accuracy: 0.9474 - val_loss: 0.2177 - val_accuracy: 0.9439\n",
      "Epoch 16/50\n",
      "59/59 - 0s - loss: 0.1918 - accuracy: 0.9501 - val_loss: 0.2108 - val_accuracy: 0.9441\n",
      "Epoch 17/50\n",
      "59/59 - 0s - loss: 0.1825 - accuracy: 0.9517 - val_loss: 0.2004 - val_accuracy: 0.9464\n",
      "Epoch 18/50\n",
      "59/59 - 0s - loss: 0.1734 - accuracy: 0.9546 - val_loss: 0.1952 - val_accuracy: 0.9472\n",
      "Epoch 19/50\n",
      "59/59 - 0s - loss: 0.1658 - accuracy: 0.9565 - val_loss: 0.1879 - val_accuracy: 0.9497\n",
      "Epoch 20/50\n",
      "59/59 - 0s - loss: 0.1591 - accuracy: 0.9574 - val_loss: 0.1839 - val_accuracy: 0.9491\n",
      "Epoch 21/50\n",
      "59/59 - 0s - loss: 0.1521 - accuracy: 0.9598 - val_loss: 0.1791 - val_accuracy: 0.9503\n",
      "Epoch 22/50\n",
      "59/59 - 0s - loss: 0.1462 - accuracy: 0.9609 - val_loss: 0.1741 - val_accuracy: 0.9520\n",
      "Epoch 23/50\n",
      "59/59 - 0s - loss: 0.1409 - accuracy: 0.9621 - val_loss: 0.1715 - val_accuracy: 0.9528\n",
      "Epoch 24/50\n",
      "59/59 - 0s - loss: 0.1358 - accuracy: 0.9633 - val_loss: 0.1670 - val_accuracy: 0.9533\n",
      "Epoch 25/50\n",
      "59/59 - 0s - loss: 0.1306 - accuracy: 0.9652 - val_loss: 0.1650 - val_accuracy: 0.9537\n",
      "Epoch 26/50\n",
      "59/59 - 0s - loss: 0.1263 - accuracy: 0.9660 - val_loss: 0.1638 - val_accuracy: 0.9529\n",
      "Epoch 27/50\n",
      "59/59 - 0s - loss: 0.1229 - accuracy: 0.9675 - val_loss: 0.1625 - val_accuracy: 0.9550\n",
      "Epoch 28/50\n",
      "59/59 - 0s - loss: 0.1188 - accuracy: 0.9686 - val_loss: 0.1593 - val_accuracy: 0.9540\n",
      "Epoch 29/50\n",
      "59/59 - 0s - loss: 0.1145 - accuracy: 0.9695 - val_loss: 0.1581 - val_accuracy: 0.9562\n",
      "Epoch 30/50\n",
      "59/59 - 0s - loss: 0.1109 - accuracy: 0.9705 - val_loss: 0.1559 - val_accuracy: 0.9547\n",
      "Epoch 31/50\n",
      "59/59 - 0s - loss: 0.1084 - accuracy: 0.9714 - val_loss: 0.1555 - val_accuracy: 0.9557\n",
      "Epoch 32/50\n",
      "59/59 - 0s - loss: 0.1046 - accuracy: 0.9721 - val_loss: 0.1542 - val_accuracy: 0.9562\n",
      "Epoch 33/50\n",
      "59/59 - 0s - loss: 0.1021 - accuracy: 0.9729 - val_loss: 0.1531 - val_accuracy: 0.9571\n",
      "Epoch 34/50\n",
      "59/59 - 0s - loss: 0.0987 - accuracy: 0.9738 - val_loss: 0.1516 - val_accuracy: 0.9582\n",
      "Epoch 35/50\n",
      "59/59 - 0s - loss: 0.0965 - accuracy: 0.9747 - val_loss: 0.1520 - val_accuracy: 0.9586\n",
      "Epoch 36/50\n",
      "59/59 - 0s - loss: 0.0943 - accuracy: 0.9750 - val_loss: 0.1521 - val_accuracy: 0.9587\n",
      "Epoch 37/50\n",
      "59/59 - 0s - loss: 0.0921 - accuracy: 0.9758 - val_loss: 0.1492 - val_accuracy: 0.9589\n",
      "Epoch 38/50\n",
      "59/59 - 0s - loss: 0.0895 - accuracy: 0.9764 - val_loss: 0.1516 - val_accuracy: 0.9601\n",
      "Epoch 39/50\n",
      "59/59 - 0s - loss: 0.0872 - accuracy: 0.9770 - val_loss: 0.1544 - val_accuracy: 0.9580\n",
      "Epoch 40/50\n",
      "59/59 - 0s - loss: 0.0849 - accuracy: 0.9774 - val_loss: 0.1477 - val_accuracy: 0.9585\n",
      "Epoch 41/50\n",
      "59/59 - 0s - loss: 0.0836 - accuracy: 0.9780 - val_loss: 0.1481 - val_accuracy: 0.9579\n",
      "Epoch 42/50\n",
      "59/59 - 0s - loss: 0.0810 - accuracy: 0.9786 - val_loss: 0.1470 - val_accuracy: 0.9604\n",
      "Epoch 43/50\n",
      "59/59 - 0s - loss: 0.0788 - accuracy: 0.9791 - val_loss: 0.1496 - val_accuracy: 0.9586\n",
      "Epoch 44/50\n",
      "59/59 - 0s - loss: 0.0775 - accuracy: 0.9798 - val_loss: 0.1489 - val_accuracy: 0.9589\n",
      "Epoch 45/50\n",
      "59/59 - 0s - loss: 0.0753 - accuracy: 0.9803 - val_loss: 0.1484 - val_accuracy: 0.9593\n",
      "Epoch 46/50\n",
      "59/59 - 0s - loss: 0.0739 - accuracy: 0.9805 - val_loss: 0.1482 - val_accuracy: 0.9607\n",
      "Epoch 47/50\n",
      "59/59 - 0s - loss: 0.0719 - accuracy: 0.9813 - val_loss: 0.1495 - val_accuracy: 0.9595\n",
      "Epoch 48/50\n",
      "59/59 - 0s - loss: 0.0703 - accuracy: 0.9818 - val_loss: 0.1472 - val_accuracy: 0.9603\n",
      "Epoch 49/50\n",
      "59/59 - 0s - loss: 0.0687 - accuracy: 0.9824 - val_loss: 0.1474 - val_accuracy: 0.9608\n",
      "Epoch 50/50\n",
      "59/59 - 0s - loss: 0.0672 - accuracy: 0.9826 - val_loss: 0.1482 - val_accuracy: 0.9594\n"
     ]
    }
   ],
   "source": [
    "_ = model.fit(\n",
    "    x_train, y_train,\n",
    "    validation_data=(x_test, y_test),\n",
    "    epochs=50, batch_size=1024,\n",
    "    verbose=2\n",
    ")"
   ]
  },
  {
   "cell_type": "markdown",
   "metadata": {},
   "source": [
    "# Save the Model"
   ]
  },
  {
   "cell_type": "code",
   "execution_count": 17,
   "metadata": {},
   "outputs": [],
   "source": [
    "model.save('model.h5')"
   ]
  },
  {
   "cell_type": "code",
   "execution_count": null,
   "metadata": {},
   "outputs": [],
   "source": []
  }
 ],
 "metadata": {
  "kernelspec": {
   "display_name": "Python 3",
   "language": "python",
   "name": "python3"
  },
  "language_info": {
   "codemirror_mode": {
    "name": "ipython",
    "version": 3
   },
   "file_extension": ".py",
   "mimetype": "text/x-python",
   "name": "python",
   "nbconvert_exporter": "python",
   "pygments_lexer": "ipython3",
   "version": "3.8.8"
  }
 },
 "nbformat": 4,
 "nbformat_minor": 2
}
